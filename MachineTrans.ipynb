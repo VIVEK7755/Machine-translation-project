{
 "cells": [
  {
   "cell_type": "code",
   "execution_count": null,
   "metadata": {},
   "outputs": [],
   "source": [
    "!pip install gensim\n",
    "!pip install nltk\n",
    "\n",
    "import gensim\n",
    "from gensim.models import Word2Vec\n",
    "\n",
    "# Read in the data\n",
    "data = gensim.models.word2vec.LineSentence('/content/europarl-v7.fr-en.en')\n",
    "\n",
    "# Train the model\n",
    "model = Word2Vec(data, size=100, window=5, min_count=5, workers=4)\n",
    "\n",
    "# Save the model\n",
    "model.save('translation_model.bin')"
   ]
  },
  {
   "cell_type": "code",
   "execution_count": null,
   "metadata": {},
   "outputs": [],
   "source": [
    "import gensim\n",
    "\n",
    "# Load the model\n",
    "model = gensim.models.Word2Vec.load('translation_model.bin')\n",
    "\n",
    "def translate(text, model):\n",
    "  # Split the text into individual words\n",
    "  words = text.split()\n",
    "\n",
    "  # Translate the words one by one\n",
    "  translated_words = []\n",
    "  for word in words:\n",
    "    translated_words.append(model.wv.most_similar(positive=word)[0][0])\n",
    "\n",
    "  # Join the translated words into a single string\n",
    "  translated_text = \" \".join(translated_words)\n",
    "  return translated_text\n",
    "\n",
    "# Define the text to translate\n",
    "text = \"You will be aware from the press and television that there have been a number of bomb explosions and killings in Sri Lanka.\"\n",
    "\n",
    "# Translate the text\n",
    "translated_text = translate(text, model)\n",
    "print(translated_text)"
   ]
  },
  {
   "cell_type": "code",
   "execution_count": null,
   "metadata": {},
   "outputs": [],
   "source": []
  }
 ],
 "metadata": {
  "kernelspec": {
   "display_name": "Python 3.9.12 ('base')",
   "language": "python",
   "name": "python3"
  },
  "language_info": {
   "codemirror_mode": {
    "name": "ipython",
    "version": 3
   },
   "file_extension": ".py",
   "mimetype": "text/x-python",
   "name": "python",
   "nbconvert_exporter": "python",
   "pygments_lexer": "ipython3",
   "version": "3.9.12"
  },
  "orig_nbformat": 4,
  "vscode": {
   "interpreter": {
    "hash": "268ef9718d96bd2f6412fa46e3b9a4eafcc7a1114c16c0144283a0a16ae25601"
   }
  }
 },
 "nbformat": 4,
 "nbformat_minor": 2
}
